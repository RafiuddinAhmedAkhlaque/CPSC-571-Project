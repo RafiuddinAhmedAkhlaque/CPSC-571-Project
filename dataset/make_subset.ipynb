{
 "cells": [
  {
   "cell_type": "code",
   "execution_count": 51,
   "id": "947015ce",
   "metadata": {},
   "outputs": [],
   "source": [
    "import pandas as pd\n",
    "import numpy as np"
   ]
  },
  {
   "cell_type": "code",
   "execution_count": 52,
   "id": "7db605e1",
   "metadata": {},
   "outputs": [],
   "source": [
    "df = pd.read_csv('ncrna.csv')"
   ]
  },
  {
   "cell_type": "code",
   "execution_count": 53,
   "id": "346e5d9c",
   "metadata": {},
   "outputs": [
    {
     "data": {
      "text/html": [
       "<div>\n",
       "<style scoped>\n",
       "    .dataframe tbody tr th:only-of-type {\n",
       "        vertical-align: middle;\n",
       "    }\n",
       "\n",
       "    .dataframe tbody tr th {\n",
       "        vertical-align: top;\n",
       "    }\n",
       "\n",
       "    .dataframe thead th {\n",
       "        text-align: right;\n",
       "    }\n",
       "</style>\n",
       "<table border=\"1\" class=\"dataframe\">\n",
       "  <thead>\n",
       "    <tr style=\"text-align: right;\">\n",
       "      <th></th>\n",
       "      <th>accession</th>\n",
       "      <th>sequence</th>\n",
       "    </tr>\n",
       "    <tr>\n",
       "      <th>type</th>\n",
       "      <th></th>\n",
       "      <th></th>\n",
       "    </tr>\n",
       "  </thead>\n",
       "  <tbody>\n",
       "    <tr>\n",
       "      <th>Gene; lncRNA;</th>\n",
       "      <td>34097</td>\n",
       "      <td>34097</td>\n",
       "    </tr>\n",
       "    <tr>\n",
       "      <th>Gene; miRNA;</th>\n",
       "      <td>714692</td>\n",
       "      <td>714692</td>\n",
       "    </tr>\n",
       "    <tr>\n",
       "      <th>Gene; rRNA;</th>\n",
       "      <td>893195</td>\n",
       "      <td>893195</td>\n",
       "    </tr>\n",
       "    <tr>\n",
       "      <th>Gene; ribozyme;</th>\n",
       "      <td>372617</td>\n",
       "      <td>372617</td>\n",
       "    </tr>\n",
       "    <tr>\n",
       "      <th>Gene; sRNA;</th>\n",
       "      <td>70626</td>\n",
       "      <td>70626</td>\n",
       "    </tr>\n",
       "    <tr>\n",
       "      <th>Gene; snRNA;</th>\n",
       "      <td>10445</td>\n",
       "      <td>10445</td>\n",
       "    </tr>\n",
       "    <tr>\n",
       "      <th>Gene; snRNA; snoRNA;</th>\n",
       "      <td>5</td>\n",
       "      <td>5</td>\n",
       "    </tr>\n",
       "    <tr>\n",
       "      <th>Gene; snRNA; snoRNA; CD-box;</th>\n",
       "      <td>514762</td>\n",
       "      <td>514762</td>\n",
       "    </tr>\n",
       "    <tr>\n",
       "      <th>Gene; snRNA; snoRNA; HACA-box;</th>\n",
       "      <td>133089</td>\n",
       "      <td>133089</td>\n",
       "    </tr>\n",
       "    <tr>\n",
       "      <th>Gene; snRNA; snoRNA; scaRNA;</th>\n",
       "      <td>12164</td>\n",
       "      <td>12164</td>\n",
       "    </tr>\n",
       "    <tr>\n",
       "      <th>Gene; snRNA; splicing;</th>\n",
       "      <td>393849</td>\n",
       "      <td>393849</td>\n",
       "    </tr>\n",
       "    <tr>\n",
       "      <th>Gene; tRNA;</th>\n",
       "      <td>5340232</td>\n",
       "      <td>5340232</td>\n",
       "    </tr>\n",
       "  </tbody>\n",
       "</table>\n",
       "</div>"
      ],
      "text/plain": [
       "                                accession  sequence\n",
       "type                                               \n",
       "Gene; lncRNA;                       34097     34097\n",
       "Gene; miRNA;                       714692    714692\n",
       "Gene; rRNA;                        893195    893195\n",
       "Gene; ribozyme;                    372617    372617\n",
       "Gene; sRNA;                         70626     70626\n",
       "Gene; snRNA;                        10445     10445\n",
       "Gene; snRNA; snoRNA;                    5         5\n",
       "Gene; snRNA; snoRNA; CD-box;       514762    514762\n",
       "Gene; snRNA; snoRNA; HACA-box;     133089    133089\n",
       "Gene; snRNA; snoRNA; scaRNA;        12164     12164\n",
       "Gene; snRNA; splicing;             393849    393849\n",
       "Gene; tRNA;                       5340232   5340232"
      ]
     },
     "execution_count": 53,
     "metadata": {},
     "output_type": "execute_result"
    }
   ],
   "source": [
    "df.groupby('type').count()"
   ]
  },
  {
   "cell_type": "code",
   "execution_count": 54,
   "id": "6486e2d1",
   "metadata": {},
   "outputs": [],
   "source": [
    "df['type'] = df['type'].map(lambda x: str.split(x,';')[1].strip())\n",
    "df['sequence'] = df['sequence'].map(lambda x: str.replace(x, \"\\n\", \"\"))"
   ]
  },
  {
   "cell_type": "code",
   "execution_count": 56,
   "id": "2ead5638",
   "metadata": {},
   "outputs": [],
   "source": [
    "counts = df.groupby('type')['accession'].count()\n",
    "total = counts.sum()\n",
    "counts_subset = {t: int(np.round((counts.loc[t]/total) * 1E5)) for t in counts.index}"
   ]
  },
  {
   "cell_type": "code",
   "execution_count": 57,
   "id": "80259fb1",
   "metadata": {},
   "outputs": [
    {
     "data": {
      "text/plain": [
       "{'lncRNA': 402,\n",
       " 'miRNA': 8418,\n",
       " 'rRNA': 10521,\n",
       " 'ribozyme': 4389,\n",
       " 'sRNA': 832,\n",
       " 'snRNA': 12536,\n",
       " 'tRNA': 62902}"
      ]
     },
     "execution_count": 57,
     "metadata": {},
     "output_type": "execute_result"
    }
   ],
   "source": [
    "counts_subset"
   ]
  },
  {
   "cell_type": "code",
   "execution_count": 58,
   "id": "60cce740",
   "metadata": {},
   "outputs": [],
   "source": [
    "subset_df = pd.DataFrame(columns=['accession', 'sequence', 'type'])\n",
    "for type, count in counts_subset.items():\n",
    "    rows = df.loc[df['type'] == type,:].sample(n=count)\n",
    "    subset_df = pd.concat([subset_df, rows])"
   ]
  },
  {
   "cell_type": "code",
   "execution_count": 59,
   "id": "6f5d1c58",
   "metadata": {},
   "outputs": [
    {
     "data": {
      "text/html": [
       "<div>\n",
       "<style scoped>\n",
       "    .dataframe tbody tr th:only-of-type {\n",
       "        vertical-align: middle;\n",
       "    }\n",
       "\n",
       "    .dataframe tbody tr th {\n",
       "        vertical-align: top;\n",
       "    }\n",
       "\n",
       "    .dataframe thead th {\n",
       "        text-align: right;\n",
       "    }\n",
       "</style>\n",
       "<table border=\"1\" class=\"dataframe\">\n",
       "  <thead>\n",
       "    <tr style=\"text-align: right;\">\n",
       "      <th></th>\n",
       "      <th>accession</th>\n",
       "      <th>sequence</th>\n",
       "    </tr>\n",
       "    <tr>\n",
       "      <th>type</th>\n",
       "      <th></th>\n",
       "      <th></th>\n",
       "    </tr>\n",
       "  </thead>\n",
       "  <tbody>\n",
       "    <tr>\n",
       "      <th>lncRNA</th>\n",
       "      <td>402</td>\n",
       "      <td>402</td>\n",
       "    </tr>\n",
       "    <tr>\n",
       "      <th>miRNA</th>\n",
       "      <td>8418</td>\n",
       "      <td>8418</td>\n",
       "    </tr>\n",
       "    <tr>\n",
       "      <th>rRNA</th>\n",
       "      <td>10521</td>\n",
       "      <td>10521</td>\n",
       "    </tr>\n",
       "    <tr>\n",
       "      <th>ribozyme</th>\n",
       "      <td>4389</td>\n",
       "      <td>4389</td>\n",
       "    </tr>\n",
       "    <tr>\n",
       "      <th>sRNA</th>\n",
       "      <td>832</td>\n",
       "      <td>832</td>\n",
       "    </tr>\n",
       "    <tr>\n",
       "      <th>snRNA</th>\n",
       "      <td>12536</td>\n",
       "      <td>12536</td>\n",
       "    </tr>\n",
       "    <tr>\n",
       "      <th>tRNA</th>\n",
       "      <td>62902</td>\n",
       "      <td>62902</td>\n",
       "    </tr>\n",
       "  </tbody>\n",
       "</table>\n",
       "</div>"
      ],
      "text/plain": [
       "          accession  sequence\n",
       "type                         \n",
       "lncRNA          402       402\n",
       "miRNA          8418      8418\n",
       "rRNA          10521     10521\n",
       "ribozyme       4389      4389\n",
       "sRNA            832       832\n",
       "snRNA         12536     12536\n",
       "tRNA          62902     62902"
      ]
     },
     "execution_count": 59,
     "metadata": {},
     "output_type": "execute_result"
    }
   ],
   "source": [
    "subset_df.groupby('type').count()"
   ]
  },
  {
   "cell_type": "code",
   "execution_count": 60,
   "id": "b903c78a",
   "metadata": {},
   "outputs": [],
   "source": [
    "subset_df.to_csv('ncrna_subset.csv', index=False)"
   ]
  }
 ],
 "metadata": {
  "kernelspec": {
   "display_name": ".venv",
   "language": "python",
   "name": "python3"
  },
  "language_info": {
   "codemirror_mode": {
    "name": "ipython",
    "version": 3
   },
   "file_extension": ".py",
   "mimetype": "text/x-python",
   "name": "python",
   "nbconvert_exporter": "python",
   "pygments_lexer": "ipython3",
   "version": "3.13.7"
  }
 },
 "nbformat": 4,
 "nbformat_minor": 5
}
