{
 "cells": [
  {
   "cell_type": "code",
   "execution_count": 15,
   "id": "19657668",
   "metadata": {},
   "outputs": [],
   "source": [
    "import pandas as pd\n",
    "import numpy as np"
   ]
  },
  {
   "cell_type": "code",
   "execution_count": 16,
   "id": "fa2191d7",
   "metadata": {},
   "outputs": [
    {
     "data": {
      "text/html": [
       "<div>\n",
       "<style scoped>\n",
       "    .dataframe tbody tr th:only-of-type {\n",
       "        vertical-align: middle;\n",
       "    }\n",
       "\n",
       "    .dataframe tbody tr th {\n",
       "        vertical-align: top;\n",
       "    }\n",
       "\n",
       "    .dataframe thead th {\n",
       "        text-align: right;\n",
       "    }\n",
       "</style>\n",
       "<table border=\"1\" class=\"dataframe\">\n",
       "  <thead>\n",
       "    <tr style=\"text-align: right;\">\n",
       "      <th></th>\n",
       "      <th>accession</th>\n",
       "      <th>sequence</th>\n",
       "      <th>type</th>\n",
       "    </tr>\n",
       "  </thead>\n",
       "  <tbody>\n",
       "    <tr>\n",
       "      <th>0</th>\n",
       "      <td>CM008178.2/13519367-13518782</td>\n",
       "      <td>gttcccgcgcccggcccggagcgcgcctctgccgaggaccttgacc...</td>\n",
       "      <td>lncRNA</td>\n",
       "    </tr>\n",
       "    <tr>\n",
       "      <th>1</th>\n",
       "      <td>WEIX01007000.1/95142-95341</td>\n",
       "      <td>ctaggagaaccgaaaacagttctagactgacctgcggttttatagc...</td>\n",
       "      <td>lncRNA</td>\n",
       "    </tr>\n",
       "    <tr>\n",
       "      <th>2</th>\n",
       "      <td>NIFN02008677.1/26758913-26758776</td>\n",
       "      <td>atcgccagtacctactgcaacatctttcctccctacacagcgactc...</td>\n",
       "      <td>lncRNA</td>\n",
       "    </tr>\n",
       "    <tr>\n",
       "      <th>3</th>\n",
       "      <td>JH126708.1/1088160-1088311</td>\n",
       "      <td>ctcctttttctgcttgatcctgtagtgaagtcagaatcctgtgttt...</td>\n",
       "      <td>lncRNA</td>\n",
       "    </tr>\n",
       "    <tr>\n",
       "      <th>4</th>\n",
       "      <td>NC_032656.1/46729700-46729828</td>\n",
       "      <td>tctgccccctccccatgctctccctctttcctctcttcccctttca...</td>\n",
       "      <td>lncRNA</td>\n",
       "    </tr>\n",
       "  </tbody>\n",
       "</table>\n",
       "</div>"
      ],
      "text/plain": [
       "                          accession  \\\n",
       "0      CM008178.2/13519367-13518782   \n",
       "1        WEIX01007000.1/95142-95341   \n",
       "2  NIFN02008677.1/26758913-26758776   \n",
       "3        JH126708.1/1088160-1088311   \n",
       "4     NC_032656.1/46729700-46729828   \n",
       "\n",
       "                                            sequence    type  \n",
       "0  gttcccgcgcccggcccggagcgcgcctctgccgaggaccttgacc...  lncRNA  \n",
       "1  ctaggagaaccgaaaacagttctagactgacctgcggttttatagc...  lncRNA  \n",
       "2  atcgccagtacctactgcaacatctttcctccctacacagcgactc...  lncRNA  \n",
       "3  ctcctttttctgcttgatcctgtagtgaagtcagaatcctgtgttt...  lncRNA  \n",
       "4  tctgccccctccccatgctctccctctttcctctcttcccctttca...  lncRNA  "
      ]
     },
     "execution_count": 16,
     "metadata": {},
     "output_type": "execute_result"
    }
   ],
   "source": [
    "sub = pd.read_csv('./ncrna_subset.csv')\n",
    "# remove newlines and convert to lowercase\n",
    "sub['sequence'] = sub['sequence'].map(lambda x: str.replace(x, '\\n', '').lower())\n",
    "sub.head()"
   ]
  },
  {
   "cell_type": "markdown",
   "id": "112ab754",
   "metadata": {},
   "source": [
    "There are more than 4 unique characters (A,C,G,T) in some sequences due to ambiguous base calls from sequencing process:"
   ]
  },
  {
   "cell_type": "code",
   "execution_count": 17,
   "id": "d6b0d7d0",
   "metadata": {},
   "outputs": [
    {
     "name": "stdout",
     "output_type": "stream",
     "text": [
      "{'n', 's', 'r', 't', 'b', 'y', 'w', 'u', 'c', 'v', 'd', 'h', 'm', 'a', 'g', 'k'}\n",
      "16\n"
     ]
    }
   ],
   "source": [
    "bases_per_sequence = sub['sequence'].map(lambda x: ''.join(sorted(set(x))))\n",
    "all_bases = set(''.join(bases_per_sequence.unique()))\n",
    "n = len(all_bases)\n",
    "print(all_bases)\n",
    "print(n)"
   ]
  },
  {
   "cell_type": "markdown",
   "id": "76146ecb",
   "metadata": {},
   "source": [
    "I decided to remove entries with sequences that contain bases other than A, G, C, or T, since there weren't that many. This will simplify the CGR a lot because we'll only need 4 vertices."
   ]
  },
  {
   "cell_type": "code",
   "execution_count": 18,
   "id": "89c7a537",
   "metadata": {},
   "outputs": [],
   "source": [
    "sub['unique_bases'] = sub['sequence'].map(lambda x: ''.join(sorted(set(x))))\n",
    "acgt_only = sub.loc[sub['unique_bases'] == 'acgt',:]\n",
    "acgt_only = acgt_only.drop(columns=['unique_bases'])"
   ]
  },
  {
   "cell_type": "markdown",
   "id": "278b36c2",
   "metadata": {},
   "source": [
    "Setting positions of each vertex:"
   ]
  },
  {
   "cell_type": "code",
   "execution_count": 19,
   "id": "0fb9cb35",
   "metadata": {},
   "outputs": [],
   "source": [
    "positions = {\n",
    "    'a': (-1., 1.),\n",
    "    't': (1., 1.),\n",
    "    'g': (1., -1.),\n",
    "    'c': (-1., -1.)\n",
    "}"
   ]
  },
  {
   "cell_type": "markdown",
   "id": "549c162e",
   "metadata": {},
   "source": [
    "Below is the function used to calculate the CGR of each sequence:"
   ]
  },
  {
   "cell_type": "code",
   "execution_count": 20,
   "id": "f4eb52c3",
   "metadata": {},
   "outputs": [],
   "source": [
    "def make_cgr(seq, sf, base_positions):\n",
    "    # start with random position\n",
    "    # CGR will approach about the same position once whole sequence is processed, no matter the starting position,\n",
    "    # But randomly selecting start position might prevent points from overlapping\n",
    "    [x,y] = ((np.random.rand(2)) * 2) - 1\n",
    "    for c in seq:\n",
    "        x = x + (sf * (base_positions[c][0] - x))\n",
    "        y = y + (sf * (base_positions[c][1]- y))\n",
    "    return (x,y)"
   ]
  },
  {
   "cell_type": "code",
   "execution_count": 21,
   "id": "674d42dd",
   "metadata": {},
   "outputs": [],
   "source": [
    "acgt_only.loc[:, ['cgr_x', 'cgr_y']] = [0., 0.]\n",
    "new_sf = 0.5\n",
    "for i in acgt_only.index:\n",
    "    cgr = make_cgr(acgt_only.loc[i,'sequence'], new_sf, positions)\n",
    "    acgt_only.loc[i,['cgr_x', 'cgr_y']] = [cgr[0], cgr[1]]"
   ]
  },
  {
   "cell_type": "code",
   "execution_count": 22,
   "id": "0cbfb46f",
   "metadata": {},
   "outputs": [
    {
     "data": {
      "text/html": [
       "<div>\n",
       "<style scoped>\n",
       "    .dataframe tbody tr th:only-of-type {\n",
       "        vertical-align: middle;\n",
       "    }\n",
       "\n",
       "    .dataframe tbody tr th {\n",
       "        vertical-align: top;\n",
       "    }\n",
       "\n",
       "    .dataframe thead th {\n",
       "        text-align: right;\n",
       "    }\n",
       "</style>\n",
       "<table border=\"1\" class=\"dataframe\">\n",
       "  <thead>\n",
       "    <tr style=\"text-align: right;\">\n",
       "      <th></th>\n",
       "      <th>accession</th>\n",
       "      <th>sequence</th>\n",
       "      <th>type</th>\n",
       "      <th>cgr_x</th>\n",
       "      <th>cgr_y</th>\n",
       "    </tr>\n",
       "  </thead>\n",
       "  <tbody>\n",
       "    <tr>\n",
       "      <th>0</th>\n",
       "      <td>CM008178.2/13519367-13518782</td>\n",
       "      <td>gttcccgcgcccggcccggagcgcgcctctgccgaggaccttgacc...</td>\n",
       "      <td>lncRNA</td>\n",
       "      <td>0.275957</td>\n",
       "      <td>-0.338453</td>\n",
       "    </tr>\n",
       "    <tr>\n",
       "      <th>1</th>\n",
       "      <td>WEIX01007000.1/95142-95341</td>\n",
       "      <td>ctaggagaaccgaaaacagttctagactgacctgcggttttatagc...</td>\n",
       "      <td>lncRNA</td>\n",
       "      <td>0.662054</td>\n",
       "      <td>-0.419805</td>\n",
       "    </tr>\n",
       "    <tr>\n",
       "      <th>2</th>\n",
       "      <td>NIFN02008677.1/26758913-26758776</td>\n",
       "      <td>atcgccagtacctactgcaacatctttcctccctacacagcgactc...</td>\n",
       "      <td>lncRNA</td>\n",
       "      <td>0.749801</td>\n",
       "      <td>-0.671359</td>\n",
       "    </tr>\n",
       "    <tr>\n",
       "      <th>3</th>\n",
       "      <td>JH126708.1/1088160-1088311</td>\n",
       "      <td>ctcctttttctgcttgatcctgtagtgaagtcagaatcctgtgttt...</td>\n",
       "      <td>lncRNA</td>\n",
       "      <td>-0.296876</td>\n",
       "      <td>0.298390</td>\n",
       "    </tr>\n",
       "    <tr>\n",
       "      <th>4</th>\n",
       "      <td>NC_032656.1/46729700-46729828</td>\n",
       "      <td>tctgccccctccccatgctctccctctttcctctcttcccctttca...</td>\n",
       "      <td>lncRNA</td>\n",
       "      <td>-0.206335</td>\n",
       "      <td>0.662376</td>\n",
       "    </tr>\n",
       "  </tbody>\n",
       "</table>\n",
       "</div>"
      ],
      "text/plain": [
       "                          accession  \\\n",
       "0      CM008178.2/13519367-13518782   \n",
       "1        WEIX01007000.1/95142-95341   \n",
       "2  NIFN02008677.1/26758913-26758776   \n",
       "3        JH126708.1/1088160-1088311   \n",
       "4     NC_032656.1/46729700-46729828   \n",
       "\n",
       "                                            sequence    type     cgr_x  \\\n",
       "0  gttcccgcgcccggcccggagcgcgcctctgccgaggaccttgacc...  lncRNA  0.275957   \n",
       "1  ctaggagaaccgaaaacagttctagactgacctgcggttttatagc...  lncRNA  0.662054   \n",
       "2  atcgccagtacctactgcaacatctttcctccctacacagcgactc...  lncRNA  0.749801   \n",
       "3  ctcctttttctgcttgatcctgtagtgaagtcagaatcctgtgttt...  lncRNA -0.296876   \n",
       "4  tctgccccctccccatgctctccctctttcctctcttcccctttca...  lncRNA -0.206335   \n",
       "\n",
       "      cgr_y  \n",
       "0 -0.338453  \n",
       "1 -0.419805  \n",
       "2 -0.671359  \n",
       "3  0.298390  \n",
       "4  0.662376  "
      ]
     },
     "execution_count": 22,
     "metadata": {},
     "output_type": "execute_result"
    }
   ],
   "source": [
    "acgt_only.head()"
   ]
  },
  {
   "cell_type": "markdown",
   "id": "14ae762b",
   "metadata": {},
   "source": [
    "Adding sequence length and % GC content as columns:"
   ]
  },
  {
   "cell_type": "code",
   "execution_count": 23,
   "id": "0295269f",
   "metadata": {},
   "outputs": [],
   "source": [
    "acgt_only['sequence length'] = acgt_only['sequence'].map(len)\n",
    "acgt_only['GC content'] = ((acgt_only['sequence'].str.count('g') + acgt_only['sequence'].str.count('c')) / acgt_only['sequence length']) * 100"
   ]
  },
  {
   "cell_type": "code",
   "execution_count": 25,
   "id": "979981aa",
   "metadata": {},
   "outputs": [],
   "source": [
    "acgt_only.to_csv('cgr_subset.csv', index=False)"
   ]
  }
 ],
 "metadata": {
  "kernelspec": {
   "display_name": ".venv",
   "language": "python",
   "name": "python3"
  },
  "language_info": {
   "codemirror_mode": {
    "name": "ipython",
    "version": 3
   },
   "file_extension": ".py",
   "mimetype": "text/x-python",
   "name": "python",
   "nbconvert_exporter": "python",
   "pygments_lexer": "ipython3",
   "version": "3.13.7"
  }
 },
 "nbformat": 4,
 "nbformat_minor": 5
}
