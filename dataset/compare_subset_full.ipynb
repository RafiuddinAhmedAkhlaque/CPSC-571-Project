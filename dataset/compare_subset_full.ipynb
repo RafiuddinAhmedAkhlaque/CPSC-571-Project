{
 "cells": [
  {
   "cell_type": "code",
   "execution_count": null,
   "id": "fbeabb0c",
   "metadata": {},
   "outputs": [],
   "source": [
    "import pandas as pd\n",
    "import numpy as np"
   ]
  },
  {
   "cell_type": "code",
   "execution_count": null,
   "id": "3f8d595a",
   "metadata": {},
   "outputs": [],
   "source": [
    "full = pd.read_csv('ncrna.csv')\n",
    "subset = pd.read_csv('ncrna_subset.csv')\n",
    "\n",
    "# clean sequence entry and make all bases lowercase\n",
    "full['sequence'] = full['sequence'].map(lambda x: str.replace(x, '\\n', '').lower())\n",
    "subset['sequence'] = subset['sequence'].map(lambda x: str.replace(x, '\\n', '').lower())\n",
    "\n",
    "subset['seq_length'] = subset['sequence'].map(len)\n",
    "full['seq_length'] = full['sequence'].map(len)"
   ]
  },
  {
   "cell_type": "code",
   "execution_count": 68,
   "id": "0905f774",
   "metadata": {},
   "outputs": [
    {
     "data": {
      "text/plain": [
       "count    8.489773e+06\n",
       "mean     1.145850e+02\n",
       "std      2.952030e+02\n",
       "min      2.500000e+01\n",
       "25%      6.000000e+01\n",
       "50%      6.000000e+01\n",
       "75%      9.400000e+01\n",
       "max      1.079900e+04\n",
       "Name: seq_length, dtype: float64"
      ]
     },
     "execution_count": 68,
     "metadata": {},
     "output_type": "execute_result"
    }
   ],
   "source": [
    "full['seq_length'].describe()"
   ]
  },
  {
   "cell_type": "code",
   "execution_count": 69,
   "id": "fe333cb0",
   "metadata": {},
   "outputs": [
    {
     "data": {
      "text/plain": [
       "count    100000.000000\n",
       "mean        114.071680\n",
       "std         294.451839\n",
       "min          30.000000\n",
       "25%          60.000000\n",
       "50%          60.000000\n",
       "75%          94.000000\n",
       "max        9265.000000\n",
       "Name: seq_length, dtype: float64"
      ]
     },
     "execution_count": 69,
     "metadata": {},
     "output_type": "execute_result"
    }
   ],
   "source": [
    "subset['seq_length'].describe()"
   ]
  },
  {
   "cell_type": "code",
   "execution_count": 75,
   "id": "a5085532",
   "metadata": {},
   "outputs": [],
   "source": [
    "# Get GC content of each dataset\n",
    "full['g_count'] = full['sequence'].str.count('g')\n",
    "full['c_count'] = full['sequence'].str.count('c')\n",
    "full['GC_content'] = ((full['g_count'] + full['c_count']) / full['seq_length']) * 100\n",
    "\n",
    "subset['g_count'] = subset['sequence'].str.count('g')\n",
    "subset['c_count'] = subset['sequence'].str.count('c')\n",
    "subset['GC_content'] = ((subset['g_count'] + subset['c_count']) / subset['seq_length']) * 100"
   ]
  },
  {
   "cell_type": "code",
   "execution_count": 78,
   "id": "e2fa50dd",
   "metadata": {},
   "outputs": [
    {
     "name": "stdout",
     "output_type": "stream",
     "text": [
      "count    8.489773e+06\n",
      "mean     5.168625e+01\n",
      "std      8.321846e+00\n",
      "min      8.276644e+00\n",
      "25%      4.767699e+01\n",
      "50%      5.333333e+01\n",
      "75%      5.666667e+01\n",
      "max      8.939394e+01\n",
      "Name: GC_content, dtype: float64\n"
     ]
    }
   ],
   "source": [
    "print(full['GC_content'].describe())"
   ]
  },
  {
   "cell_type": "code",
   "execution_count": 79,
   "id": "e0211b39",
   "metadata": {},
   "outputs": [
    {
     "name": "stdout",
     "output_type": "stream",
     "text": [
      "count    100000.000000\n",
      "mean         51.666095\n",
      "std           8.297734\n",
      "min          13.717026\n",
      "25%          47.663551\n",
      "50%          53.333333\n",
      "75%          56.666667\n",
      "max          87.142857\n",
      "Name: GC_content, dtype: float64\n"
     ]
    }
   ],
   "source": [
    "print(subset['GC_content'].describe())"
   ]
  },
  {
   "cell_type": "code",
   "execution_count": 64,
   "id": "89796cb7",
   "metadata": {},
   "outputs": [],
   "source": [
    "def entropy(df):\n",
    "    bases_per_sequence = df['sequence'].map(lambda x: ''.join(sorted(set(x))))\n",
    "    all_bases = set(''.join(bases_per_sequence.unique()))\n",
    "    total = sum(df['seq_length'])\n",
    "    base_props = {c: (df['sequence'].str.count(c).sum())/total for c in all_bases}\n",
    "    entropy = -1 * sum([p * np.log2(p) for p in base_props.values()])\n",
    "    return entropy\n"
   ]
  },
  {
   "cell_type": "code",
   "execution_count": 66,
   "id": "e8b7cbfc",
   "metadata": {},
   "outputs": [
    {
     "data": {
      "text/plain": [
       "np.float64(2.0079234374642563)"
      ]
     },
     "execution_count": 66,
     "metadata": {},
     "output_type": "execute_result"
    }
   ],
   "source": [
    "entropy(subset)"
   ]
  },
  {
   "cell_type": "code",
   "execution_count": 67,
   "id": "db6e200b",
   "metadata": {},
   "outputs": [
    {
     "data": {
      "text/plain": [
       "np.float64(2.0100741662326946)"
      ]
     },
     "execution_count": 67,
     "metadata": {},
     "output_type": "execute_result"
    }
   ],
   "source": [
    "entropy(full)"
   ]
  },
  {
   "cell_type": "code",
   "execution_count": null,
   "id": "cc3b659b",
   "metadata": {},
   "outputs": [],
   "source": []
  }
 ],
 "metadata": {
  "kernelspec": {
   "display_name": ".venv",
   "language": "python",
   "name": "python3"
  },
  "language_info": {
   "codemirror_mode": {
    "name": "ipython",
    "version": 3
   },
   "file_extension": ".py",
   "mimetype": "text/x-python",
   "name": "python",
   "nbconvert_exporter": "python",
   "pygments_lexer": "ipython3",
   "version": "3.13.7"
  }
 },
 "nbformat": 4,
 "nbformat_minor": 5
}
